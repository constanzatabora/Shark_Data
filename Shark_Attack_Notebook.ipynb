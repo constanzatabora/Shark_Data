{
 "cells": [
  {
   "cell_type": "code",
   "execution_count": 167,
   "id": "9debd5fa-1ad6-4143-9370-d7292cab70dc",
   "metadata": {},
   "outputs": [
    {
     "name": "stdout",
     "output_type": "stream",
     "text": [
      "Requirement already satisfied: xlrd in c:\\users\\olgeo\\anaconda3\\lib\\site-packages (2.0.1)\n"
     ]
    }
   ],
   "source": [
    "!pip install xlrd"
   ]
  },
  {
   "cell_type": "code",
   "execution_count": 1,
   "id": "d5468e70-5923-4418-8eda-f9ab1f195a1c",
   "metadata": {},
   "outputs": [],
   "source": [
    "\n",
    "import pandas as pd\n",
    "def import_data(url):    \n",
    "    shark_df = pd.read_excel(\"https://www.sharkattackfile.net/spreadsheets/GSAF5.xls\")\n",
    "    shark_df.dropna(axis=1, how='all', inplace=True)\n",
    "    shark_df.dropna(axis=0, how='all', inplace=True)\n",
    "    return shark_df\n",
    "\n",
    "shark_df = import_data(\"https://www.sharkattackfile.net/spreadsheets/GSAF5.xls\")"
   ]
  },
  {
   "cell_type": "code",
   "execution_count": 5,
   "id": "d6710163-c3d6-4355-ae0f-ed41eff1fef8",
   "metadata": {},
   "outputs": [
    {
     "data": {
      "text/plain": [
       "Index(['Date', 'Year', 'Type', 'Country', 'State', 'Location', 'Activity',\n",
       "       'Name', 'Sex', 'Age', 'Injury', 'Unnamed: 11', 'Time', 'Species ',\n",
       "       'Source', 'pdf', 'href formula', 'href', 'Case Number', 'Case Number.1',\n",
       "       'original order', 'Unnamed: 21', 'Unnamed: 22'],\n",
       "      dtype='object')"
      ]
     },
     "execution_count": 5,
     "metadata": {},
     "output_type": "execute_result"
    }
   ],
   "source": [
    "shark_df.columns"
   ]
  },
  {
   "cell_type": "code",
   "execution_count": 9,
   "id": "fc33da65-d6d9-4135-957b-9e314dd49f57",
   "metadata": {},
   "outputs": [
    {
     "data": {
      "text/plain": [
       "<DatetimeArray>\n",
       "[          '2024-10-14 00:00:00',           '2024-10-11 00:00:00',\n",
       "           '2024-09-17 00:00:00',           '2024-09-16 00:00:00',\n",
       "           '2024-08-26 00:00:00',           '2024-08-06 00:00:00',\n",
       "           '2024-07-23 00:00:00',           '2024-07-18 00:00:00',\n",
       "           '2024-07-08 00:00:00',           '2024-07-05 00:00:00',\n",
       " ...\n",
       " '1970-01-01 00:00:00.000001871', '1970-01-01 00:00:00.000001865',\n",
       "           '1952-07-28 00:00:00', '1970-01-01 00:00:00.000001852',\n",
       " '1970-01-01 00:00:00.000001844', '1970-01-01 00:00:00.000001764',\n",
       " '1970-01-01 00:00:00.000001758', '1970-01-01 00:00:00.000001749',\n",
       " '1970-01-01 00:00:00.000001595', '1970-01-01 00:00:00.000001555']\n",
       "Length: 4836, dtype: datetime64[ns]"
      ]
     },
     "execution_count": 9,
     "metadata": {},
     "output_type": "execute_result"
    }
   ],
   "source": [
    "#Vasco\n",
    "def clean_dates(df):\n",
    "    new_df = df.copy()\n",
    "    new_df['Date'] = pd.to_datetime(new_df['Date'], errors='coerce')\n",
    "\n",
    "    #drop rows invalid dates\n",
    "    new_df.dropna(subset=['Date'], inplace=True)\n",
    "\n",
    "    #filter out dates before 1900\n",
    "    new_df = new_df[new_df['Date'] >= pd.Timestamp('1900-01-01')].reset_index(drop=True)\n",
    "    return new_df"
   ]
  },
  {
   "cell_type": "code",
   "execution_count": 6,
   "id": "9083d17c-e2d9-4661-89fc-9399285c631d",
   "metadata": {},
   "outputs": [],
   "source": [
    "def clean_cols(df):\n",
    "    new_df = df.rename(columns={'Unnamed: 11': 'Fatal'})\n",
    "    new_df = new_df.drop(['pdf', 'href formula', 'href','Case Number', 'Case Number.1',\n",
    "       'original order', 'Unnamed: 21', 'Unnamed: 22'], axis=1)\n",
    "    new_df = new_df.drop_duplicates()\n",
    "    return new_df\n",
    "\n",
    "clean_df = clean_cols(shark_df).columns"
   ]
  },
  {
   "cell_type": "code",
   "execution_count": 9,
   "id": "0a7f5655-6762-449b-b4f7-12cbd2a706b4",
   "metadata": {},
   "outputs": [
    {
     "data": {
      "text/plain": [
       "array(['Honduras', 'USA', 'Morocco', 'Jamaica', 'Belize', 'Australia',\n",
       "       'Maldive Islands', 'Turks and Caicos', 'French Polynesia',\n",
       "       'Tobago', 'Bahamas', 'AUSTRALIA', 'INDIA', 'TRINIDAD', 'BAHAMAS',\n",
       "       'SOUTH AFRICA', 'MEXICO', 'NEW ZEALAND', 'EGYPT', 'Mexico',\n",
       "       'BELIZE', 'PHILIPPINES', 'Coral Sea', 'SPAIN', 'PORTUGAL', 'SAMOA',\n",
       "       'COLOMBIA', 'ECUADOR', 'FRENCH POLYNESIA', 'NEW CALEDONIA',\n",
       "       'TURKS and CaICOS', 'CUBA', 'BRAZIL', 'SEYCHELLES', 'ARGENTINA',\n",
       "       'FIJI', 'MeXICO', 'Maldives', 'South Africa', 'ENGLAND', 'JAPAN',\n",
       "       'INDONESIA', 'JAMAICA', 'MALDIVES', 'THAILAND', 'COLUMBIA',\n",
       "       'COSTA RICA', 'New Zealand', 'British Overseas Territory',\n",
       "       'CANADA', 'JORDAN', 'ST KITTS / NEVIS', 'ST MARTIN',\n",
       "       'PAPUA NEW GUINEA', 'REUNION ISLAND', 'ISRAEL', 'CHINA', 'IRELAND',\n",
       "       'ITALY', 'MALAYSIA', 'LIBYA', nan, 'MAURITIUS', 'SOLOMON ISLANDS',\n",
       "       'ST HELENA, British overseas territory', 'COMOROS', 'REUNION',\n",
       "       'UNITED KINGDOM', 'UNITED ARAB EMIRATES', 'CAPE VERDE', 'Fiji',\n",
       "       'DOMINICAN REPUBLIC', 'CAYMAN ISLANDS', 'ARUBA', 'MOZAMBIQUE',\n",
       "       'PUERTO RICO', 'ATLANTIC OCEAN', 'GREECE', 'ST. MARTIN', 'FRANCE',\n",
       "       'TRINIDAD & TOBAGO', 'KIRIBATI', 'DIEGO GARCIA', 'TAIWAN',\n",
       "       'PALESTINIAN TERRITORIES', 'GUAM', 'NIGERIA', 'TONGA', 'SCOTLAND',\n",
       "       'CROATIA', 'SAUDI ARABIA', 'CHILE', 'ANTIGUA', 'KENYA', 'RUSSIA',\n",
       "       'TURKS & CAICOS', 'UNITED ARAB EMIRATES (UAE)', 'AZORES',\n",
       "       'SOUTH KOREA', 'MALTA', 'VIETNAM', 'MADAGASCAR', 'PANAMA',\n",
       "       'SOMALIA', 'NEVIS', 'BRITISH VIRGIN ISLANDS', 'NORWAY', 'SENEGAL',\n",
       "       'YEMEN', 'GULF OF ADEN', 'Sierra Leone', 'ST. MAARTIN',\n",
       "       'GRAND CAYMAN', 'Seychelles', 'LIBERIA', 'VANUATU', 'MEXICO ',\n",
       "       'HONDURAS', 'VENEZUELA', 'SRI LANKA', ' TONGA', 'URUGUAY',\n",
       "       'MICRONESIA', 'CARIBBEAN SEA', 'OKINAWA', 'TANZANIA',\n",
       "       'MARSHALL ISLANDS', 'EGYPT / ISRAEL', 'NORTHERN ARABIAN SEA',\n",
       "       'HONG KONG', 'EL SALVADOR', 'ANGOLA', 'BERMUDA', 'MONTENEGRO',\n",
       "       'IRAN', 'TUNISIA', 'NAMIBIA', 'NORTH ATLANTIC OCEAN',\n",
       "       'SOUTH CHINA SEA', 'BANGLADESH', 'PALAU', 'WESTERN SAMOA',\n",
       "       'PACIFIC OCEAN ', 'BRITISH ISLES', 'GRENADA', 'IRAQ', 'TURKEY',\n",
       "       'SINGAPORE', 'NEW BRITAIN', 'SUDAN', 'JOHNSTON ISLAND',\n",
       "       'SOUTH PACIFIC OCEAN', 'NEW GUINEA', 'RED SEA',\n",
       "       'NORTH PACIFIC OCEAN', 'FEDERATED STATES OF MICRONESIA',\n",
       "       'MID ATLANTIC OCEAN', 'ADMIRALTY ISLANDS', 'BRITISH WEST INDIES',\n",
       "       'SOUTH ATLANTIC OCEAN', 'PERSIAN GULF', 'RED SEA / INDIAN OCEAN',\n",
       "       'PACIFIC OCEAN', 'NORTH SEA', 'NICARAGUA ', 'MALDIVE ISLANDS',\n",
       "       'AMERICAN SAMOA', 'ANDAMAN / NICOBAR ISLANDAS', 'GABON', 'MAYOTTE',\n",
       "       'NORTH ATLANTIC OCEAN ', 'THE BALKANS', 'SUDAN?', 'MARTINIQUE',\n",
       "       'INDIAN OCEAN', 'GUATEMALA', 'NETHERLANDS ANTILLES',\n",
       "       'NORTHERN MARIANA ISLANDS', 'IRAN / IRAQ', 'JAVA', 'SIERRA LEONE',\n",
       "       ' PHILIPPINES', 'NICARAGUA', 'CENTRAL PACIFIC',\n",
       "       'SOLOMON ISLANDS / VANUATU', 'SOUTHWEST PACIFIC OCEAN',\n",
       "       'BAY OF BENGAL', 'MID-PACIFC OCEAN', 'SLOVENIA', 'CURACAO',\n",
       "       'ICELAND', 'ITALY / CROATIA', 'BARBADOS', 'MONACO', 'GUYANA',\n",
       "       'HAITI', 'SAN DOMINGO', 'KUWAIT', 'YEMEN ', 'FALKLAND ISLANDS',\n",
       "       'CRETE', 'CYPRUS', 'EGYPT ', 'WEST INDIES', 'BURMA', 'LEBANON',\n",
       "       'PARAGUAY', 'BRITISH NEW GUINEA', 'CEYLON', 'OCEAN', 'GEORGIA',\n",
       "       'SYRIA', 'TUVALU', 'INDIAN OCEAN?', 'GUINEA', 'ANDAMAN ISLANDS',\n",
       "       'EQUATORIAL GUINEA / CAMEROON', 'COOK ISLANDS', 'TOBAGO', 'PERU',\n",
       "       'AFRICA', 'ALGERIA', 'Coast of AFRICA', 'TASMAN SEA', 'GHANA',\n",
       "       'GREENLAND', 'MEDITERRANEAN SEA', 'SWEDEN', 'ROATAN',\n",
       "       'Between PORTUGAL & INDIA', 'DJIBOUTI', 'BAHREIN', 'KOREA',\n",
       "       'RED SEA?', 'ASIA?', 'CEYLON (SRI LANKA)'], dtype=object)"
      ]
     },
     "execution_count": 9,
     "metadata": {},
     "output_type": "execute_result"
    }
   ],
   "source": [
    "shark_df[\"Country\"].unique()"
   ]
  },
  {
   "cell_type": "code",
   "execution_count": 38,
   "id": "47a164ac-1de2-473c-a73e-acbaf262833d",
   "metadata": {},
   "outputs": [
    {
     "name": "stdout",
     "output_type": "stream",
     "text": [
      "['American Samoa', 'Antigua', 'Argentina', 'Australia', 'Azores', 'Bahamas', 'Barbados', 'Belize', 'Bermuda', 'Brazil', 'Canada', 'Cape Verde', 'Cayman Islands', 'Chile', 'China', 'Colombia', 'Costa Rica', 'Croatia', 'Cuba', 'Dominican Republic', 'Ecuador', 'Egypt', 'El Salvador', 'Fiji', 'France', 'French Polynesia', 'Greece', 'Grenada', 'Guam', 'Guinea', 'Guyana', 'Haiti', 'Honduras', 'Hong Kong', 'Iceland', 'India', 'Indonesia', 'Iran', 'Iraq', 'Ireland', 'Israel', 'Italy', 'Jamaica', 'Japan', 'Johnston Island', 'Kenya', 'Kiribati', 'Lebanon', 'Liberia', 'Libya', 'Madagascar', 'Malaysia', 'Maldives', 'Malta', 'Marshall Islands', 'Martinique', 'Mauritius', 'Mexico', 'Micronesia', 'Montenegro', 'Mozambique', 'Myanmar', 'Namibia', 'New Caledonia', 'New Zealand', 'Nicaragua', 'Nigeria', 'Norway', 'Palau', 'Panama', 'Papua New Guinea', 'Peru', 'Philippines', 'Portugal', 'Reunion', 'Russia', 'Samoa', 'Saudi Arabia', 'Senegal', 'Seychelles', 'Sierra Leone', 'Singapore', 'Solomon Islands', 'Somalia', 'South Africa', 'South Korea', 'Spain', 'Sri Lanka', 'St Helena', 'St Martin', 'Sudan', 'Taiwan', 'Tanzania', 'Thailand', 'Tonga', 'Trinidad & Tobago', 'Tunisia', 'Turkey', 'Turks & Caicos', 'USA', 'United Arab Emirates', 'United Kingdom', 'Uruguay', 'Vanuatu', 'Venezuela', 'Vietnam', 'West Indies', 'Yemen']\n"
     ]
    }
   ],
   "source": [
    "def clean_country(df):\n",
    "    \"\"\"Tidies the \"Country\" column of the DataFrama \"\"\"\n",
    "    new_df = df.copy()\n",
    "    new_df = new_df.dropna(subset=[\"Country\"])\n",
    "\n",
    "    # Converts country column to consistent capitalisation and strips spaces\n",
    "    new_df[\"Country\"] = new_df[\"Country\"].apply(lambda x: x.strip().title())\n",
    "    new_df[\"Country\"] = new_df[\"Country\"].apply(lambda x: \"USA\" if x == \"Usa\" else x)\n",
    "\n",
    "    #Removes rows that contain Oceans and Seas for the country\n",
    "    new_df = new_df[~new_df[\"Country\"].str.contains(\"Ocean\", na=False)]\n",
    "    new_df = new_df[~new_df[\"Country\"].str.contains(\"Central Pacific\", na=False)]\n",
    "    new_df = new_df[~new_df[\"Country\"].str.contains(\" Sea\", na=False)]\n",
    "    new_df = new_df[~new_df[\"Country\"].str.contains(\"Persian Gulf\", na=False)]\n",
    "    \n",
    "    #Corrects country names\n",
    "    new_df[\"Country\"] = new_df[\"Country\"].replace(\"Ceylon (Sri Lanka)\", \"Sri Lanka\")\n",
    "    new_df[\"Country\"] = new_df[\"Country\"].replace(\"Ceylon\", \"Sri Lanka\")\n",
    "    new_df[\"Country\"] = new_df[\"Country\"].replace(\"Maldive Islands\", \"Maldives\")\n",
    "    new_df[\"Country\"] = new_df[\"Country\"].replace(\"St. Maartin\", \"St Martin\")\n",
    "    new_df[\"Country\"] = new_df[\"Country\"].replace(\"St. Martin\", \"St Martin\")\n",
    "    new_df[\"Country\"] = new_df[\"Country\"].replace(\"Reunion Island\", \"Reunion\")\n",
    "    new_df[\"Country\"] = new_df[\"Country\"].replace(\"Trinidad\", \"Trinidad & Tobago\")\n",
    "    new_df[\"Country\"] = new_df[\"Country\"].replace(\"Tobago\", \"Trinidad & Tobago\")\n",
    "    new_df[\"Country\"] = new_df[\"Country\"].replace(\"Turks And Caicos\", \"Turks & Caicos\")\n",
    "    new_df[\"Country\"] = new_df[\"Country\"].replace(\"Sudan?\", \"Sudan\")\n",
    "    new_df[\"Country\"] = new_df[\"Country\"].replace(\"United Arab Emirates (Uae)?\", \"United Arab Emirates\")\n",
    "    new_df[\"Country\"] = new_df[\"Country\"].replace(\"United Arab Emirates (Uae)\", \"United Arab Emirates\")\n",
    "    new_df[\"Country\"] = new_df[\"Country\"].replace(\"Western Samoa\", \"Samoa\")\n",
    "    new_df[\"Country\"] = new_df[\"Country\"].replace(\"Scotland\", \"United Kingdom\")\n",
    "    new_df[\"Country\"] = new_df[\"Country\"].replace(\"Crete\", \"Greece\")\n",
    "    new_df[\"Country\"] = new_df[\"Country\"].replace(\"Okinawa\", \"Japan\")\n",
    "    new_df[\"Country\"] = new_df[\"Country\"].replace(\"Columbia\", \"Colombia\")\n",
    "    new_df[\"Country\"] = new_df[\"Country\"].replace(\"England\", \"United Kingdom\")\n",
    "    new_df[\"Country\"] = new_df[\"Country\"].replace(\"New Britain\", \"Papua New Guinea\")\n",
    "    new_df[\"Country\"] = new_df[\"Country\"].replace(\"New Guinea\", \"Papua New Guinea\")\n",
    "    new_df[\"Country\"] = new_df[\"Country\"].replace('St Helena, British Overseas Territory', \"St Helena\")\n",
    "    new_df[\"Country\"] = new_df[\"Country\"].replace('Burma', \"Myanmar\")    \n",
    "\n",
    "    #Counts occurences of each country\n",
    "    country_counts = new_df[\"Country\"].value_counts() #Contains 6923\n",
    "\n",
    "\n",
    "    # Filter countries that appear more than two times\n",
    "    countries_to_keep = country_counts[country_counts > 1].index\n",
    "    new_df = new_df[new_df[\"Country\"].isin(countries_to_keep)]   \n",
    "\n",
    "    return new_df\n",
    "\n",
    "print(sorted(list(clean_country(shark_df)[\"Country\"].unique())))\n"
   ]
  },
  {
   "cell_type": "code",
   "execution_count": 52,
   "id": "60137b88-d9e8-4884-a281-0f319505de65",
   "metadata": {},
   "outputs": [
    {
     "data": {
      "text/html": [
       "<div>\n",
       "<style scoped>\n",
       "    .dataframe tbody tr th:only-of-type {\n",
       "        vertical-align: middle;\n",
       "    }\n",
       "\n",
       "    .dataframe tbody tr th {\n",
       "        vertical-align: top;\n",
       "    }\n",
       "\n",
       "    .dataframe thead th {\n",
       "        text-align: right;\n",
       "    }\n",
       "</style>\n",
       "<table border=\"1\" class=\"dataframe\">\n",
       "  <thead>\n",
       "    <tr style=\"text-align: right;\">\n",
       "      <th></th>\n",
       "      <th>Hemisphere</th>\n",
       "      <th>Country</th>\n",
       "    </tr>\n",
       "  </thead>\n",
       "  <tbody>\n",
       "    <tr>\n",
       "      <th>0</th>\n",
       "      <td>North</td>\n",
       "      <td>Honduras</td>\n",
       "    </tr>\n",
       "    <tr>\n",
       "      <th>1</th>\n",
       "      <td>North</td>\n",
       "      <td>USA</td>\n",
       "    </tr>\n",
       "    <tr>\n",
       "      <th>2</th>\n",
       "      <td>North</td>\n",
       "      <td>Honduras</td>\n",
       "    </tr>\n",
       "    <tr>\n",
       "      <th>4</th>\n",
       "      <td>North</td>\n",
       "      <td>Jamaica</td>\n",
       "    </tr>\n",
       "    <tr>\n",
       "      <th>5</th>\n",
       "      <td>North</td>\n",
       "      <td>Belize</td>\n",
       "    </tr>\n",
       "    <tr>\n",
       "      <th>...</th>\n",
       "      <td>...</td>\n",
       "      <td>...</td>\n",
       "    </tr>\n",
       "    <tr>\n",
       "      <th>6968</th>\n",
       "      <td>South</td>\n",
       "      <td>Australia</td>\n",
       "    </tr>\n",
       "    <tr>\n",
       "      <th>6969</th>\n",
       "      <td>South</td>\n",
       "      <td>Australia</td>\n",
       "    </tr>\n",
       "    <tr>\n",
       "      <th>6970</th>\n",
       "      <td>North</td>\n",
       "      <td>USA</td>\n",
       "    </tr>\n",
       "    <tr>\n",
       "      <th>6971</th>\n",
       "      <td>North</td>\n",
       "      <td>Panama</td>\n",
       "    </tr>\n",
       "    <tr>\n",
       "      <th>6972</th>\n",
       "      <td>South</td>\n",
       "      <td>Sri Lanka</td>\n",
       "    </tr>\n",
       "  </tbody>\n",
       "</table>\n",
       "<p>6761 rows × 2 columns</p>\n",
       "</div>"
      ],
      "text/plain": [
       "     Hemisphere    Country\n",
       "0         North   Honduras\n",
       "1         North        USA\n",
       "2         North   Honduras\n",
       "4         North    Jamaica\n",
       "5         North     Belize\n",
       "...         ...        ...\n",
       "6968      South  Australia\n",
       "6969      South  Australia\n",
       "6970      North        USA\n",
       "6971      North     Panama\n",
       "6972      South  Sri Lanka\n",
       "\n",
       "[6761 rows x 2 columns]"
      ]
     },
     "execution_count": 52,
     "metadata": {},
     "output_type": "execute_result"
    }
   ],
   "source": [
    "def hemisphere(df):\n",
    "    new_df = df.copy()\n",
    "\n",
    "    hemi_dict = {\n",
    "        'American Samoa': \"South\", \n",
    "        'Antigua': 'North', \n",
    "        'Argentina': \"South\", \n",
    "        'Australia': \"South\", \n",
    "        'Azores': \"North\", \n",
    "        'Bahamas': \"North\", \n",
    "        'Barbados': \"North\", \n",
    "        'Belize': \"North\", \n",
    "        'Bermuda': \"North\", \n",
    "        'Brazil': \"Equator\", \n",
    "        'Myanmar': \"North\", \n",
    "        'Canada': \"North\", \n",
    "        'Cape Verde': \"North\", \n",
    "        'Cayman Islands': \"North\", \n",
    "        'Chile': \"South\", \n",
    "        'China': \"North\", \n",
    "        'Colombia': \"Equator\", \n",
    "        'Costa Rica': \"North\",\n",
    "        'Croatia': \"North\", \n",
    "        'Cuba': \"North\", \n",
    "        'Dominican Republic': \"North\", \n",
    "        'Ecuador': \"Equator\", \n",
    "        'Egypt': \"North\",\n",
    "        'El Salvador': \"North\", \n",
    "        'Fiji': \"South\", \n",
    "        'France': \"North\", \n",
    "        'French Polynesia': \"South\", \n",
    "        'Greece': \"North\",\n",
    "        'Grenada': \"North\", \n",
    "        'Guam': \"North\", \n",
    "        'Guinea': \"North\", \n",
    "        'Guyana': \"North\", \n",
    "        'Haiti': \"North\", \n",
    "        'Honduras': \"North\", \n",
    "        'Hong Kong': \"North\", \n",
    "        'Iceland': \"North\",\n",
    "        'India': \"North\", \n",
    "        'Indonesia': \"Equator\", \n",
    "        'Iran': \"North\", \n",
    "        'Iraq': \"North\", \n",
    "        'Ireland': \"North\",\n",
    "        'Israel': \"North\", \n",
    "        'Italy': \"North\", \n",
    "        'Jamaica': \"North\", \n",
    "        'Japan': \"North\",\n",
    "        'Johnston Island': \"North\", \n",
    "        'Kenya': \"Equator\", \n",
    "        'Kiribati': \"Equator\", \n",
    "        'Lebanon': \"North\", \n",
    "        'Liberia': \"North\", \n",
    "        'Libya': \"North\", \n",
    "        'Madagascar': \"South\",\n",
    "        'Malaysia': \"North\", \n",
    "        'Maldives': \"Equator\", \n",
    "        'Malta': \"North\", \n",
    "        'Marshall Islands': \"North\", \n",
    "        'Martinique': \"North\", \n",
    "        'Mauritius': \"South\", \n",
    "        'Mexico': \"North\", \n",
    "        'Micronesia': \"North\", \n",
    "        'Montenegro': \"North\", \n",
    "        'Mozambique': \"South\", \n",
    "        'Namibia': \"South\", \n",
    "        'New Caledonia': \"South\", \n",
    "        'New Zealand': \"South\", \n",
    "        'Nicaragua': \"North\", \n",
    "        'Nigeria': \"North\", \n",
    "        'Norway': \"North\", \n",
    "        'Palau': \"North\", \n",
    "        'Panama': \"North\",\n",
    "        'Papua New Guinea': \"South\", \n",
    "        'Peru': \"South\", \n",
    "        'Philippines': \"North\", \n",
    "        'Portugal': \"North\", \n",
    "        'Reunion': \"South\", \n",
    "        'Russia': \"North\",\n",
    "        'Samoa': \"South\", \n",
    "        'Saudi Arabia': \"North\", \n",
    "        'Senegal': \"North\", \n",
    "        'Seychelles': \"South\", \n",
    "        'Sierra Leone': \"North\", \n",
    "        'Singapore': \"North\",\n",
    "        'Solomon Islands': \"South\", \n",
    "        'Somalia': \"Equator\", \n",
    "        'South Africa': \"South\", \n",
    "        'South Korea': \"North\", \n",
    "        'Spain': \"North\", \n",
    "        'Sri Lanka': \"South\", \n",
    "        'St Helena, British Overseas Territory': \"South\", \n",
    "        'St Martin': \"North\",\n",
    "        'St Helena': \"South\",\n",
    "        'Sudan': \"North\", \n",
    "        'Taiwan': \"North\", \n",
    "        'Tanzania': \"Equator\",\n",
    "        'Thailand': \"North\", \n",
    "        'Tonga': \"South\", \n",
    "        'Trinidad & Tobago': \"North\", \n",
    "        'Tunisia': \"North\", \n",
    "        'Turkey': \"North\", \n",
    "        'Turks & Caicos': \"North\",\n",
    "        'USA': \"North\", \n",
    "        'United Arab Emirates': \"North\", \n",
    "        'United Kingdom': \"North\", \n",
    "        'Uruguay': \"South\", \n",
    "        'Vanuatu': \"South\",\n",
    "        'Venezuela': \"North\", \n",
    "        'Vietnam': \"North\", \n",
    "        'West Indies': \"North\", \n",
    "        'Yemen': \"North\"\n",
    "    }\n",
    "    \n",
    "    new_df[\"Hemisphere\"] = new_df[\"Country\"].apply(lambda country: hemi_dict.get(country, \"Na\"))\n",
    "    \n",
    "    #Code here\n",
    "    return new_df\n",
    "\n",
    "hemisphere(clean_country(shark_df))[[\"Hemisphere\",\"Country\"]]"
   ]
  },
  {
   "cell_type": "code",
   "execution_count": null,
   "id": "12215596-8739-4564-af85-6a1bbb547b32",
   "metadata": {
    "scrolled": true
   },
   "outputs": [],
   "source": [
    "shark_df[\"Unnamed: 11\"].unique()"
   ]
  },
  {
   "cell_type": "code",
   "execution_count": null,
   "id": "7c2cd389-5688-4fde-92c9-ab50f6b05667",
   "metadata": {},
   "outputs": [],
   "source": [
    "shark_df[\"Unnamed: 11\"].unique()"
   ]
  },
  {
   "cell_type": "code",
   "execution_count": null,
   "id": "737910d9-a85c-4c25-a653-dbd33a201797",
   "metadata": {},
   "outputs": [],
   "source": [
    "shark_df[\"Unnamed: 21\"].unique()"
   ]
  },
  {
   "cell_type": "code",
   "execution_count": null,
   "id": "0706527d-3b09-46f2-9a59-89f714a34edd",
   "metadata": {},
   "outputs": [],
   "source": [
    "shark_df[\"Unnamed: 22\"].unique()"
   ]
  },
  {
   "cell_type": "code",
   "execution_count": null,
   "id": "de28f1e4-498f-41d8-bc71-df3dc50e1e39",
   "metadata": {
    "scrolled": true
   },
   "outputs": [],
   "source": [
    "shark_df.info()"
   ]
  },
  {
   "cell_type": "code",
   "execution_count": null,
   "id": "efcea602-c09b-49ad-ae2d-cbe4ebbc3743",
   "metadata": {},
   "outputs": [],
   "source": [
    "shark_df.nunique()"
   ]
  },
  {
   "cell_type": "code",
   "execution_count": null,
   "id": "656545e0-7993-405c-b277-ea6a6cccd30e",
   "metadata": {},
   "outputs": [],
   "source": [
    "print(shark_df.isna().sum())\n"
   ]
  },
  {
   "cell_type": "code",
   "execution_count": null,
   "id": "3ede3d2e-7f32-4a78-8c55-4f9982213c4a",
   "metadata": {},
   "outputs": [],
   "source": [
    "shark_df[\"Year\"].unique()"
   ]
  },
  {
   "cell_type": "code",
   "execution_count": null,
   "id": "1facad76-ebe8-4dcc-a973-034cf2f48d2b",
   "metadata": {},
   "outputs": [],
   "source": [
    "shark_df[\"Sex\"].unique()"
   ]
  },
  {
   "cell_type": "code",
   "execution_count": null,
   "id": "75218584-c363-41d7-b2bc-ffb0c03d9196",
   "metadata": {},
   "outputs": [],
   "source": [
    "shark_df.sort_values(by=['Year'], ascending=[True]).head(20)"
   ]
  },
  {
   "cell_type": "code",
   "execution_count": null,
   "id": "6662a4bb-9c11-44e5-9824-0531247e4c63",
   "metadata": {},
   "outputs": [],
   "source": []
  }
 ],
 "metadata": {
  "kernelspec": {
   "display_name": "Python 3 (ipykernel)",
   "language": "python",
   "name": "python3"
  },
  "language_info": {
   "codemirror_mode": {
    "name": "ipython",
    "version": 3
   },
   "file_extension": ".py",
   "mimetype": "text/x-python",
   "name": "python",
   "nbconvert_exporter": "python",
   "pygments_lexer": "ipython3",
   "version": "3.12.4"
  }
 },
 "nbformat": 4,
 "nbformat_minor": 5
}
